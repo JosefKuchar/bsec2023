{
 "cells": [
  {
   "cell_type": "code",
   "execution_count": 13,
   "metadata": {
    "collapsed": true
   },
   "outputs": [],
   "source": [
    "import pandas\n",
    "from sklearn import linear_model"
   ]
  },
  {
   "cell_type": "code",
   "execution_count": 55,
   "outputs": [
    {
     "data": {
      "text/plain": "        Date   Time  Initial  Bolus Restaurant                           Food  \\\n0   16-01-23   7:00      7.3      8  McDonnald             Toast menu 1 toast   \n1   16-01-23  14:00      8.2      8   U Holise                     Katuv sleh   \n2   16-01-23  18:00      8.9     10      CaPhe                  Bun Bo Nam Bo   \n3   17-01-23   6:30      6.8      8       Doma                Bebe Dobre rano   \n4   17-01-23  12:00      7.1     10     Ctyrka        Hovezi burger, hranolky   \n..       ...    ...      ...    ...        ...                            ...   \n88  14-02-23  14:00      7.7     10      CaPhe                  Bun Bo Nam Bo   \n89  14-02-23  19:30      7.6      8      Adria  Kureci stehna, zeli, brambory   \n90  14-02-23   6:30      6.8      8       Doma                Bebe Dobre rano   \n91  14-02-23  12:30      7.2      8  Pizza Hut              2 ks syrova pizza   \n92  14-02-23  18:30      7.9      8  Potraviny             Syr, salam, pecivo   \n\n    Result  \n0    10.63  \n1     9.31  \n2    10.57  \n3     6.80  \n4     8.43  \n..     ...  \n88    9.37  \n89    8.71  \n90    6.80  \n91   12.20  \n92    7.90  \n\n[93 rows x 7 columns]",
      "text/html": "<div>\n<style scoped>\n    .dataframe tbody tr th:only-of-type {\n        vertical-align: middle;\n    }\n\n    .dataframe tbody tr th {\n        vertical-align: top;\n    }\n\n    .dataframe thead th {\n        text-align: right;\n    }\n</style>\n<table border=\"1\" class=\"dataframe\">\n  <thead>\n    <tr style=\"text-align: right;\">\n      <th></th>\n      <th>Date</th>\n      <th>Time</th>\n      <th>Initial</th>\n      <th>Bolus</th>\n      <th>Restaurant</th>\n      <th>Food</th>\n      <th>Result</th>\n    </tr>\n  </thead>\n  <tbody>\n    <tr>\n      <th>0</th>\n      <td>16-01-23</td>\n      <td>7:00</td>\n      <td>7.3</td>\n      <td>8</td>\n      <td>McDonnald</td>\n      <td>Toast menu 1 toast</td>\n      <td>10.63</td>\n    </tr>\n    <tr>\n      <th>1</th>\n      <td>16-01-23</td>\n      <td>14:00</td>\n      <td>8.2</td>\n      <td>8</td>\n      <td>U Holise</td>\n      <td>Katuv sleh</td>\n      <td>9.31</td>\n    </tr>\n    <tr>\n      <th>2</th>\n      <td>16-01-23</td>\n      <td>18:00</td>\n      <td>8.9</td>\n      <td>10</td>\n      <td>CaPhe</td>\n      <td>Bun Bo Nam Bo</td>\n      <td>10.57</td>\n    </tr>\n    <tr>\n      <th>3</th>\n      <td>17-01-23</td>\n      <td>6:30</td>\n      <td>6.8</td>\n      <td>8</td>\n      <td>Doma</td>\n      <td>Bebe Dobre rano</td>\n      <td>6.80</td>\n    </tr>\n    <tr>\n      <th>4</th>\n      <td>17-01-23</td>\n      <td>12:00</td>\n      <td>7.1</td>\n      <td>10</td>\n      <td>Ctyrka</td>\n      <td>Hovezi burger, hranolky</td>\n      <td>8.43</td>\n    </tr>\n    <tr>\n      <th>...</th>\n      <td>...</td>\n      <td>...</td>\n      <td>...</td>\n      <td>...</td>\n      <td>...</td>\n      <td>...</td>\n      <td>...</td>\n    </tr>\n    <tr>\n      <th>88</th>\n      <td>14-02-23</td>\n      <td>14:00</td>\n      <td>7.7</td>\n      <td>10</td>\n      <td>CaPhe</td>\n      <td>Bun Bo Nam Bo</td>\n      <td>9.37</td>\n    </tr>\n    <tr>\n      <th>89</th>\n      <td>14-02-23</td>\n      <td>19:30</td>\n      <td>7.6</td>\n      <td>8</td>\n      <td>Adria</td>\n      <td>Kureci stehna, zeli, brambory</td>\n      <td>8.71</td>\n    </tr>\n    <tr>\n      <th>90</th>\n      <td>14-02-23</td>\n      <td>6:30</td>\n      <td>6.8</td>\n      <td>8</td>\n      <td>Doma</td>\n      <td>Bebe Dobre rano</td>\n      <td>6.80</td>\n    </tr>\n    <tr>\n      <th>91</th>\n      <td>14-02-23</td>\n      <td>12:30</td>\n      <td>7.2</td>\n      <td>8</td>\n      <td>Pizza Hut</td>\n      <td>2 ks syrova pizza</td>\n      <td>12.20</td>\n    </tr>\n    <tr>\n      <th>92</th>\n      <td>14-02-23</td>\n      <td>18:30</td>\n      <td>7.9</td>\n      <td>8</td>\n      <td>Potraviny</td>\n      <td>Syr, salam, pecivo</td>\n      <td>7.90</td>\n    </tr>\n  </tbody>\n</table>\n<p>93 rows × 7 columns</p>\n</div>"
     },
     "execution_count": 55,
     "metadata": {},
     "output_type": "execute_result"
    }
   ],
   "source": [
    "df = pandas.read_csv(\"data.csv\")\n",
    "df"
   ],
   "metadata": {
    "collapsed": false
   }
  },
  {
   "cell_type": "code",
   "execution_count": 60,
   "outputs": [
    {
     "name": "stdout",
     "output_type": "stream",
     "text": [
      "[8.81152308]\n"
     ]
    },
    {
     "name": "stderr",
     "output_type": "stream",
     "text": [
      "/Users/lukasvecerka/opt/anaconda3/envs/bsec/lib/python3.9/site-packages/sklearn/base.py:420: UserWarning: X does not have valid feature names, but LinearRegression was fitted with feature names\n",
      "  warnings.warn(\n"
     ]
    }
   ],
   "source": [
    "\n",
    "\n",
    "X = df[['Initial', 'Result']]\n",
    "y = df['Bolus']\n",
    "\n",
    "regr = linear_model.LinearRegression()\n",
    "regr.fit(X, y)\n",
    "\n",
    "#predict the CO2 emission of a car where the weight is 2300kg, and the volume is 1300cm3:\n",
    "predictedCO2 = regr.predict([[10, 8]])\n",
    "\n",
    "print(predictedCO2)"
   ],
   "metadata": {
    "collapsed": false
   }
  },
  {
   "cell_type": "code",
   "execution_count": null,
   "outputs": [],
   "source": [],
   "metadata": {
    "collapsed": false
   }
  }
 ],
 "metadata": {
  "kernelspec": {
   "display_name": "Python 3",
   "language": "python",
   "name": "python3"
  },
  "language_info": {
   "codemirror_mode": {
    "name": "ipython",
    "version": 2
   },
   "file_extension": ".py",
   "mimetype": "text/x-python",
   "name": "python",
   "nbconvert_exporter": "python",
   "pygments_lexer": "ipython2",
   "version": "2.7.6"
  }
 },
 "nbformat": 4,
 "nbformat_minor": 0
}
